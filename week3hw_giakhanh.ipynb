{
 "cells": [
  {
   "cell_type": "markdown",
   "metadata": {},
   "source": [
    "## Week 3 - Lab - Logistic Regression\n",
    "\n",
    "### Sentiment analysis"
   ]
  },
  {
   "cell_type": "code",
   "execution_count": 1,
   "metadata": {},
   "outputs": [
    {
     "data": {
      "text/html": [
       "<div>\n",
       "<style scoped>\n",
       "    .dataframe tbody tr th:only-of-type {\n",
       "        vertical-align: middle;\n",
       "    }\n",
       "\n",
       "    .dataframe tbody tr th {\n",
       "        vertical-align: top;\n",
       "    }\n",
       "\n",
       "    .dataframe thead th {\n",
       "        text-align: right;\n",
       "    }\n",
       "</style>\n",
       "<table border=\"1\" class=\"dataframe\">\n",
       "  <thead>\n",
       "    <tr style=\"text-align: right;\">\n",
       "      <th></th>\n",
       "      <th>id</th>\n",
       "      <th>sentiment</th>\n",
       "      <th>review</th>\n",
       "    </tr>\n",
       "  </thead>\n",
       "  <tbody>\n",
       "    <tr>\n",
       "      <th>0</th>\n",
       "      <td>5814_8</td>\n",
       "      <td>1</td>\n",
       "      <td>With all this stuff going down at the moment w...</td>\n",
       "    </tr>\n",
       "    <tr>\n",
       "      <th>1</th>\n",
       "      <td>2381_9</td>\n",
       "      <td>1</td>\n",
       "      <td>\\The Classic War of the Worlds\\\" by Timothy Hi...</td>\n",
       "    </tr>\n",
       "    <tr>\n",
       "      <th>2</th>\n",
       "      <td>7759_3</td>\n",
       "      <td>0</td>\n",
       "      <td>The film starts with a manager (Nicholas Bell)...</td>\n",
       "    </tr>\n",
       "    <tr>\n",
       "      <th>3</th>\n",
       "      <td>3630_4</td>\n",
       "      <td>0</td>\n",
       "      <td>It must be assumed that those who praised this...</td>\n",
       "    </tr>\n",
       "    <tr>\n",
       "      <th>4</th>\n",
       "      <td>9495_8</td>\n",
       "      <td>1</td>\n",
       "      <td>Superbly trashy and wondrously unpretentious 8...</td>\n",
       "    </tr>\n",
       "  </tbody>\n",
       "</table>\n",
       "</div>"
      ],
      "text/plain": [
       "       id  sentiment                                             review\n",
       "0  5814_8          1  With all this stuff going down at the moment w...\n",
       "1  2381_9          1  \\The Classic War of the Worlds\\\" by Timothy Hi...\n",
       "2  7759_3          0  The film starts with a manager (Nicholas Bell)...\n",
       "3  3630_4          0  It must be assumed that those who praised this...\n",
       "4  9495_8          1  Superbly trashy and wondrously unpretentious 8..."
      ]
     },
     "execution_count": 1,
     "metadata": {},
     "output_type": "execute_result"
    }
   ],
   "source": [
    "import numpy as np\n",
    "import pandas as pd\n",
    "\n",
    "sentiment = pd.read_csv('labeledTrainData.tsv', delimiter='\\t',encoding='utf-8')\n",
    "sentiment.head()\n"
   ]
  },
  {
   "cell_type": "markdown",
   "metadata": {},
   "source": [
    "### Bag of words"
   ]
  },
  {
   "cell_type": "code",
   "execution_count": 4,
   "metadata": {},
   "outputs": [
    {
     "data": {
      "text/plain": [
       "0    With all this stuff going down at the moment w...\n",
       "1    \\The Classic War of the Worlds\\\" by Timothy Hi...\n",
       "2    The film starts with a manager (Nicholas Bell)...\n",
       "Name: review, dtype: object"
      ]
     },
     "execution_count": 4,
     "metadata": {},
     "output_type": "execute_result"
    }
   ],
   "source": [
    "reviews = sentiment.review.head(3)\n",
    "reviews"
   ]
  },
  {
   "cell_type": "markdown",
   "metadata": {},
   "source": [
    "### CountVectorizer"
   ]
  },
  {
   "cell_type": "code",
   "execution_count": 5,
   "metadata": {},
   "outputs": [
    {
     "name": "stdout",
     "output_type": "stream",
     "text": [
      "['000', '10', '20', '2002', '2006', 'about', 'actors', 'actual', 'addition', 'afoul', 'again', 'against', 'agent', 'agree', 'all', 'alone', 'also', 'amateur', 'ambition', 'an', 'and', 'angel', 'animal', 'animals', 'another', 'anyway', 'appear', 'appreciated', 'appropriately', 'are', 'area', 'as', 'astounding', 'at', 'attack', 'attacked', 'attention', 'australian', 'average', 'away', 'bad', 'badly', 'barrel', 'bases', 'bc', 'be', 'beasts', 'because', 'becoming', 'begins', 'beheading', 'behind', 'being', 'bell', 'belle', 'below', 'bestest', 'better', 'beyond', 'bigger', 'biography', 'bit', 'blood', 'bloody', 'book', 'boring', 'bottom', 'bound', 'br', 'brian', 'buddy', 'bunch', 'but', 'by', 'call', 'came', 'camilla', 'can', 'car', 'carnivorous', 'carradine', 'center', 'certain', 'character', 'chills', 'cinema', 'classic', 'cliff', 'closed', 'comes', 'complex', 'computer', 'consenting', 'convincing', 'cool', 'course', 'creature', 'criminal', 'criticize', 'critics', 'cruise', 'crusoe', 'curtis', 'dance', 'dangerous', 'dangling', 'david', 'davies', 'dead', 'deadlier', 'deadly', 'delivers', 'demon', 'different', 'directed', 'director', 'directors', 'dna', 'documentary', 'dodging', 'does', 'doing', 'don', 'doors', 'down', 'drug', 'drugs', 'dunno', 'earth', 'easy', 'effects', 'effort', 'egotist', 'eighties', 'either', 'elements', 'emmerich', 'enjoyed', 'enter', 'entertained', 'entertaining', 'entertainment', 'envision', 'escape', 'etc', 'ever', 'every', 'everyone', 'everything', 'exciting', 'excluding', 'extremely', 'fact', 'faithful', 'faithfully', 'fans', 'fare', 'fearsome', 'feature', 'feeling', 'fence', 'fight', 'filled', 'film', 'filming', 'films', 'final', 'finally', 'find', 'following', 'food', 'for', 'fossilized', 'found', 'from', 'full', 'furthermore', 'gave', 'generator', 'george', 'get', 'giant', 'girl', 'give', 'giving', 'goes', 'going', 'goods', 'gore', 'gory', 'grace', 'great', 'group', 'guilty', 'guy', 'had', 'haiduk', 'hair', 'hardly', 'has', 'hate', 'hates', 'have', 'he', 'her', 'here', 'hickox', 'high', 'him', 'hines', 'his', 'historical', 'hmmm', 'hollywood', 'hope', 'however', 'human', 'if', 'important', 'impressive', 'in', 'innocent', 'insight', 'into', 'investors', 'ironically', 'is', 'it', 'its', 'jackson', 'james', 'joe', 'john', 'journey', 'jurassik', 'just', 'kay', 'keith', 'kid', 'kiddy', 'kids', 'know', 'large', 'latter', 'leaps', 'lengths', 'let', 'level', 'liars', 'like', 'line', 'listening', 'look', 'looks', 'lord', 'lots', 'lousy', 'made', 'majority', 'make', 'making', 'man', 'manager', 'many', 'mate', 'may', 'maybe', 'me', 'meanwhile', 'mediocre', 'message', 'messages', 'michael', 'middling', 'miller', 'mind', 'minutes', 'mj', 'moment', 'moments', 'moonwalker', 'more', 'most', 'motion', 'movie', 'mr', 'much', 'music', 'must', 'mutating', 'my', 'nah', 'nature', 'never', 'nice', 'nicholas', 'no', 'not', 'novel', 'obvious', 'obviously', 'occasionally', 'odd', 'of', 'off', 'on', 'one', 'only', 'opened', 'or', 'originality', 'originally', 'other', 'others', 'out', 'over', 'overheard', 'overlook', 'pack', 'packs', 'park', 'part', 'patience', 'people', 'perceive', 'performances', 'performing', 'pesci', 'physical', 'picture', 'planet', 'plans', 'players', 'powerful', 'pre', 'predators', 'predictable', 'press', 'previous', 'prey', 'primal', 'project', 'provides', 'psychopathic', 'put', 'quite', 'raising', 'ranted', 'rate', 'rating', 'reacting', 'real', 'realistic', 'really', 'recreate', 'released', 'remember', 'remotely', 'resemblance', 'restricted', 'results', 'resurrect', 'rhys', 'ridiculous', 'river', 'robert', 'robinson', 'robot', 'roland', 'roxanne', 'run', 'running', 'sabretooth', 'sabretooths', 'saint', 'savagely', 'say', 'scares', 'scene', 'scenes', 'scientific', 'scientists', 'secret', 'security', 'see', 'seem', 'sequence', 'shortcomings', 'sickest', 'slightest', 'slow', 'small', 'smilodon', 'smilodons', 'smooth', 'snowy', 'so', 'some', 'special', 'speed', 'spielberg', 'stacy', 'stalking', 'stalks', 'standard', 'star', 'stars', 'started', 'starts', 'stay', 'steven', 'stirring', 'story', 'strait', 'stuff', 'stupid', 'subject', 'subtle', 'succeeds', 'supplying', 'takes', 'talented', 'television', 'terrifyingly', 'that', 'the', 'them', 'themselves', 'then', 'there', 'they', 'things', 'think', 'third', 'this', 'those', 'though', 'thought', 'tidal', 'tiger', 'timothy', 'to', 'tom', 'too', 'totally', 'tourists', 'towards', 'true', 'truly', 'try', 'turning', 'turns', 'unless', 'up', 'using', 'usually', 'vanessa', 've', 'version', 'very', 'victims', 'vigorously', 'violent', 'visitors', 'visually', 'voltage', 'walls', 'want', 'wanted', 'wants', 'war', 'was', 'watched', 'watching', 'wave', 'we', 'welcome', 'well', 'wells', 'what', 'when', 'whether', 'which', 'who', 'whole', 'wholesome', 'why', 'wimmer', 'with', 'wiz', 'working', 'worlds', 'would', 'year', 'you', 'youngsters', 'zeus']\n"
     ]
    }
   ],
   "source": [
    "from sklearn.feature_extraction.text import CountVectorizer\n",
    "\n",
    "vectorizer = CountVectorizer()\n",
    "bag = vectorizer.fit_transform(reviews)\n",
    "print(vectorizer.get_feature_names())\n"
   ]
  },
  {
   "cell_type": "code",
   "execution_count": 6,
   "metadata": {},
   "outputs": [
    {
     "name": "stdout",
     "output_type": "stream",
     "text": [
      "[[0 0 1 ... 2 0 0]\n",
      " [0 0 0 ... 0 0 0]\n",
      " [1 1 0 ... 0 1 1]]\n"
     ]
    }
   ],
   "source": [
    "print(bag.toarray())  "
   ]
  },
  {
   "cell_type": "code",
   "execution_count": 7,
   "metadata": {},
   "outputs": [
    {
     "name": "stdout",
     "output_type": "stream",
     "text": [
      "226\n"
     ]
    }
   ],
   "source": [
    "print(vectorizer.get_feature_names().index('is'))"
   ]
  },
  {
   "cell_type": "markdown",
   "metadata": {},
   "source": [
    "### tfidf fit_transformer"
   ]
  },
  {
   "cell_type": "code",
   "execution_count": 8,
   "metadata": {},
   "outputs": [
    {
     "name": "stdout",
     "output_type": "stream",
     "text": [
      "[[0.   0.   0.03 ... 0.06 0.   0.  ]\n",
      " [0.   0.   0.   ... 0.   0.   0.  ]\n",
      " [0.03 0.03 0.   ... 0.   0.03 0.03]]\n"
     ]
    }
   ],
   "source": [
    "from sklearn.feature_extraction.text import TfidfTransformer\n",
    "\n",
    "tfidf = TfidfTransformer()\n",
    "\n",
    "np.set_printoptions(precision=2)\n",
    "\n",
    "tfidf_ed = tfidf.fit_transform(bag).toarray()\n",
    "print(tfidf_ed)"
   ]
  },
  {
   "cell_type": "markdown",
   "metadata": {},
   "source": [
    "## Data clean up\n",
    "\n",
    "### Removing stop words"
   ]
  },
  {
   "cell_type": "code",
   "execution_count": 9,
   "metadata": {},
   "outputs": [
    {
     "data": {
      "text/plain": [
       "[('the', 287032),\n",
       " ('a', 155096),\n",
       " ('and', 152664),\n",
       " ('of', 142972),\n",
       " ('to', 132568),\n",
       " ('is', 103228),\n",
       " ('in', 85580),\n",
       " ('I', 65973),\n",
       " ('that', 64560),\n",
       " ('this', 57196),\n",
       " ('it', 54429),\n",
       " ('/><br', 50935),\n",
       " ('was', 46698),\n",
       " ('as', 42510),\n",
       " ('with', 41721),\n",
       " ('for', 41070),\n",
       " ('but', 33790),\n",
       " ('The', 33762),\n",
       " ('on', 30766),\n",
       " ('movie', 30500)]"
      ]
     },
     "execution_count": 9,
     "metadata": {},
     "output_type": "execute_result"
    }
   ],
   "source": [
    "from collections import Counter\n",
    "vocab = Counter()\n",
    "for reviews in sentiment['review']:\n",
    "    for word in reviews.split():\n",
    "        vocab[word] += 1\n",
    "vocab.most_common(20)"
   ]
  },
  {
   "cell_type": "code",
   "execution_count": 10,
   "metadata": {},
   "outputs": [
    {
     "name": "stdout",
     "output_type": "stream",
     "text": [
      "[nltk_data] Downloading package stopwords to\n",
      "[nltk_data]     /Users/jeekayen/nltk_data...\n",
      "[nltk_data]   Package stopwords is already up-to-date!\n"
     ]
    },
    {
     "data": {
      "text/plain": [
       "True"
      ]
     },
     "execution_count": 10,
     "metadata": {},
     "output_type": "execute_result"
    }
   ],
   "source": [
    "import nltk\n",
    "\n",
    "nltk.download('stopwords')"
   ]
  },
  {
   "cell_type": "code",
   "execution_count": 11,
   "metadata": {},
   "outputs": [
    {
     "data": {
      "text/plain": [
       "[('/><br', 50935),\n",
       " ('movie', 30500),\n",
       " ('film', 27397),\n",
       " ('one', 20688),\n",
       " ('like', 18133),\n",
       " ('would', 11922),\n",
       " ('good', 11435),\n",
       " ('really', 10815),\n",
       " ('even', 10607),\n",
       " ('see', 10155),\n",
       " ('-', 9355),\n",
       " ('get', 8777),\n",
       " ('story', 8526),\n",
       " ('much', 8507),\n",
       " ('time', 7764),\n",
       " ('make', 7485),\n",
       " ('could', 7462),\n",
       " ('also', 7422),\n",
       " ('first', 7339),\n",
       " ('people', 7335)]"
      ]
     },
     "execution_count": 11,
     "metadata": {},
     "output_type": "execute_result"
    }
   ],
   "source": [
    "from nltk.corpus import stopwords\n",
    "stop = stopwords.words('english')\n",
    "\n",
    "vocab_reduced = Counter()\n",
    "\n",
    "for w, c in vocab.items():\n",
    "    if not w.lower() in stop:\n",
    "        vocab_reduced[w] = c\n",
    "\n",
    "vocab_reduced.most_common(20)"
   ]
  },
  {
   "cell_type": "markdown",
   "metadata": {},
   "source": [
    "### Removing special characters and trash"
   ]
  },
  {
   "cell_type": "code",
   "execution_count": 12,
   "metadata": {},
   "outputs": [],
   "source": [
    "import re\n",
    "\n",
    "def preprocessor(text):\n",
    "    \"\"\" Return a cleaned version of text\n",
    "    \"\"\"\n",
    "    text = re.sub('<[^>]*>', '', text)\n",
    "    emoticons = re.findall('(?::|;|=)(?:-)?(?:\\)|\\(|D|P)', text)\n",
    "    text = (re.sub('[\\W]+', ' ', text.lower()) + ' ' + ' '.join(emoticons).replace('-', ''))\n",
    "    \n",
    "    return text"
   ]
  },
  {
   "cell_type": "markdown",
   "metadata": {},
   "source": [
    "### Tokenizing"
   ]
  },
  {
   "cell_type": "code",
   "execution_count": 13,
   "metadata": {},
   "outputs": [],
   "source": [
    "from nltk.stem import PorterStemmer\n",
    "\n",
    "porter = PorterStemmer()\n",
    "\n",
    "def tokenizer(text):\n",
    "    return text.split()\n",
    "\n",
    "def tokenizer_porter(text):\n",
    "    return [porter.stem(word) for word in text.split()]"
   ]
  },
  {
   "cell_type": "markdown",
   "metadata": {},
   "source": [
    "## Training Logistic Regression"
   ]
  },
  {
   "cell_type": "code",
   "execution_count": 14,
   "metadata": {},
   "outputs": [],
   "source": [
    "from sklearn.model_selection import train_test_split\n",
    "\n",
    "X = sentiment['review']\n",
    "y = sentiment['review']\n",
    "X_train, X_test, y_train, y_test = train_test_split(X, y, test_size=0.25, random_state=28)"
   ]
  },
  {
   "cell_type": "code",
   "execution_count": null,
   "metadata": {},
   "outputs": [],
   "source": [
    "from sklearn.pipeline import Pipeline\n",
    "from sklearn.linear_model import LogisticRegression\n",
    "from sklearn.feature_extraction.text import TfidfVectorizer\n",
    "\n",
    "tfidf = TfidfVectorizer(stop_words=stop,\n",
    "                        tokenizer=tokenizer_porter,\n",
    "                        preprocessor=preprocessor)\n",
    "\n",
    "clf = Pipeline([('vect', tfidf),\n",
    "                ('clf', LogisticRegression(random_state=0))])\n",
    "clf.fit(X_train, y_train)"
   ]
  },
  {
   "cell_type": "code",
   "execution_count": null,
   "metadata": {},
   "outputs": [],
   "source": [
    "from sklearn.metrics import accuracy_score, confusion_matrix, classification_report\n",
    "\n",
    "predictions = clf.predict(X_test)\n",
    "print('accuracy:',accuracy_score(y_test,predictions))\n",
    "print('confusion matrix:\\n',confusion_matrix(y_test,predictions))\n",
    "print('classification report:\\n',classification_report(y_test,predictions))\n"
   ]
  },
  {
   "cell_type": "markdown",
   "metadata": {},
   "source": [
    "Testing"
   ]
  },
  {
   "cell_type": "code",
   "execution_count": null,
   "metadata": {},
   "outputs": [],
   "source": [
    "test = [\n",
    "    \"With all this stuff going down at the moment with MJ i've started listening to his music, watching the odd documentary here and there, watched The Wiz and watched Moonwalker again. Maybe i just want to get a certain insight into this guy who i thought was really cool in the eighties just to maybe make up my mind whether he is guilty or innocent. Moonwalker is part biography, part feature film which i remember going to see at the cinema when it was originally released. Some of it has subtle messages about MJ's feeling towards the press and also the obvious message of drugs are bad m'kay.<br /><br />Visually impressive but of course this is all about Michael Jackson so unless you remotely like MJ in anyway then you are going to hate this and find it boring. Some may call MJ an egotist for consenting to the making of this movie BUT MJ and most of his fans would say that he made it for the fans which if true is really nice of him.<br /><br />The actual feature film bit when it finally starts is only on for 20 minutes or so excluding the Smooth Criminal sequence and Joe Pesci is convincing as a psychopathic all powerful drug lord. Why he wants MJ dead so bad is beyond me. Because MJ overheard his plans? Nah, Joe Pesci's character ranted that he wanted people to know it is he who is supplying drugs etc so i dunno, maybe he just hates MJ's music.<br /><br />Lots of cool things in this like MJ turning into a car and a robot and the whole Speed Demon sequence. Also, the director must have had the patience of a saint when it came to filming the kiddy Bad sequence as usually directors hate working with one kid let alone a whole bunch of them performing a complex dance scene.<br /><br />Bottom line, this movie is for people who like MJ on one level or another (which i think is most people). If not, then stay away. It does try and give off a wholesome message and ironically MJ's bestest buddy in this movie is a girl! Michael Jackson is truly one of the most talented people ever to grace this planet but is he guilty? Well, with all the attention i've gave this subject....hmmm well i don't know because people can be different behind closed doors, i know this for a fact. He is either an extremely nice but stupid guy or one of the most sickest liars. I hope he is not the latter.\n",
    "\"\n",
    "]\n",
    "\n",
    "preds = clf.predict_proba(test)\n",
    "\n",
    "for i in range(len(test)):\n",
    "    print(f'{test[i]} --> Positive, Negative = {preds[i]}')"
   ]
  }
 ],
 "metadata": {
  "kernelspec": {
   "display_name": "Python 3",
   "language": "python",
   "name": "python3"
  },
  "language_info": {
   "codemirror_mode": {
    "name": "ipython",
    "version": 3
   },
   "file_extension": ".py",
   "mimetype": "text/x-python",
   "name": "python",
   "nbconvert_exporter": "python",
   "pygments_lexer": "ipython3",
   "version": "3.7.0"
  }
 },
 "nbformat": 4,
 "nbformat_minor": 2
}
